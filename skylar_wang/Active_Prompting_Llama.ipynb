{
  "nbformat": 4,
  "nbformat_minor": 0,
  "metadata": {
    "colab": {
      "provenance": []
    },
    "kernelspec": {
      "name": "python3",
      "display_name": "Python 3"
    },
    "language_info": {
      "name": "python"
    }
  },
  "cells": [
    {
      "cell_type": "code",
      "execution_count": 1,
      "metadata": {
        "id": "fa2tJXq0iw4j"
      },
      "outputs": [],
      "source": [
        "import torch\n",
        "from transformers import AutoTokenizer, AutoModelForCausalLM\n",
        "import numpy as np\n",
        "import pandas as pd\n",
        "from tqdm import tqdm\n",
        "from sklearn.metrics.pairwise import cosine_similarity\n",
        "from sentence_transformers import SentenceTransformer\n",
        "from google.colab import userdata\n",
        "from huggingface_hub import login\n",
        "from google.colab import drive\n",
        "import gc"
      ]
    },
    {
      "cell_type": "code",
      "source": [
        "HF_TOKEN = userdata.get('HF_TOKEN')\n",
        "login(token=HF_TOKEN)\n",
        "drive.mount('/content/drive')"
      ],
      "metadata": {
        "id": "ImrUUxfzbKTZ",
        "colab": {
          "base_uri": "https://localhost:8080/"
        },
        "outputId": "b36f9bc2-e974-4eec-bf0e-45993d583b59"
      },
      "execution_count": 2,
      "outputs": [
        {
          "output_type": "stream",
          "name": "stdout",
          "text": [
            "Mounted at /content/drive\n"
          ]
        }
      ]
    },
    {
      "cell_type": "code",
      "source": [
        "model_name = \"meta-llama/Meta-Llama-3-8B-Instruct\"\n",
        "tokenizer = AutoTokenizer.from_pretrained(model_name)\n",
        "model = AutoModelForCausalLM.from_pretrained(\n",
        "    model_name,\n",
        "    torch_dtype=torch.float16,\n",
        "    device_map=\"auto\"\n",
        ")\n",
        "if tokenizer.pad_token is None:\n",
        "    tokenizer.pad_token = tokenizer.eos_token"
      ],
      "metadata": {
        "colab": {
          "base_uri": "https://localhost:8080/",
          "height": 419,
          "referenced_widgets": [
            "00e399f6939f48fd954187f3a4dcb12c",
            "6526f791a6ae44e18d95f48886dc80f7",
            "e338cd9e43ed4807806fb9e4be4a7fac",
            "058f6ba8743b4e55b526175ad396d48d",
            "44aa4c8146264701abccfc2baf502630",
            "e886f6a54d7742c98c8bc19226fc269c",
            "fd74882c78a24debb76880c92c8051fe",
            "22fc975e539749cf8f2f83d93f2b9ad6",
            "27a118892dd946189a4909a2e313cb7d",
            "316c65c6684f4179810720623ad87d91",
            "83f5cd99b4504e4e837dd8c5721cdea8",
            "117354eec63b42b99797c41a35f82e51",
            "f2daa9d37373449ebf31227c42330cde",
            "229de794a2124487952554e0bd9e43b9",
            "8df0b27982d8433b88b10c54b1e04cc6",
            "dccf016b6508412fb2e83e1077292b3e",
            "d7d9a179816540ac91d3f34c9364b751",
            "73d657413e4847828859ca0edf0a5581",
            "e751eeeeb97142bc96a9ea5942e6f1be",
            "e4c89e8d58cf4839bafb5c855d0c7391",
            "81c76b493d114fa9868f049cb5315422",
            "fd13b8f101f548f7a08231116055db9c",
            "39bf62e6b2aa4e2ea1fdb162cd4da4d0",
            "2cd26285f3dc44ce88c388b60fd90d27",
            "c2c405bd2151456e9e2e37b7a54100e3",
            "658f7d757a064aa68cd1e5cc07de1a35",
            "219527edda39407caa2fe2f407ab1f2b",
            "909a90acffee45019c3a30f43877015d",
            "9c1abbb424e74d66af1e90bee4d681e6",
            "1c476dc3cb3a412dae2e0397f8bd546a",
            "5839e4ffd34b48288a5b7be8b231e158",
            "01f3cd31f9734ae19e7be38ec5da7fe6",
            "a847e81942024305b70754d6d0f70756",
            "9cdb938b5dc54bdc8529f096551bb000",
            "90c6649df0474a48b7535cdcfbde1a6b",
            "e2a3c83ea341446c8a7bf8fcbe7e5984",
            "5be3647f5c664a06a43d746ac7a85091",
            "7ba12d5621674ddbbb5c54e7f49bd9b7",
            "b23f91fac5aa4a15b3d7a933c1c7f498",
            "53c8a9e41acb44c8a2274d8ee24a3415",
            "379f29cd71f6446388767a7beaa708bc",
            "b6d42364390a4627917209f7f4b84773",
            "11e7c57da686479db27660a45b931135",
            "2b8d43163ebc4fb6823f3c5899104da6",
            "210953ec79bc44c88d27ad109e73861a",
            "b503f7a0d3d54e8ea22e61f4fba2c656",
            "e97a386aa076480895b424614d16032b",
            "b5b350b5662a489bbcd4b3ab09154b6a",
            "fc5d37776ca3465ab1a7af34a7a54a29",
            "6103832d31054df99c7d06ab0d1891e5",
            "38a4b592f0f94ac9ae88c143be2e48ca",
            "42c29ea97d94493c8ed3b479383f5441",
            "08cd05dcb05f4fb99939f4725d3e12cc",
            "0325964ba82a49f6b8d7d4f8cf124147",
            "5ecb637da86a49988b43b686186aa2d7",
            "7e5e0f926af14ded93f1e281e97b96e5",
            "16dcae1294454a19a7a7bff32eabf8b7",
            "3be7632670b34167b2133a9bdc0690c3",
            "f7b5daad82924d6bb4bce93662d89c4f",
            "72fadb5288884a5599d76336ed38e05e",
            "c3aab9b376c1488b8ee573d51588ba24",
            "05e2d09f847c4f8da21c5537f8300710",
            "fbc63c1e92fb4345b766bf371a3c440b",
            "7b5743fa1aac4df78e9645f6e9118cc9",
            "65948fd2053d46f3a63c363b49caf838",
            "14d88c1b310c464f9e19d4f1b722ac24",
            "55e9aebea3b64571bb25c3e45ab790ea",
            "450cff66a35c431ea51fb01edae06a54",
            "9df4293ef3bd4fd2bd047bde1f150b31",
            "b36bdbe779d748d0b3990c25e1d84e54",
            "53cd88f233ca492dbe9d03ab52c7df4a",
            "2a2c7aeae516454f847e42baeb45844b",
            "f175bcb363264aaba6a2cac9a91b4a63",
            "aac77e74ed96448f8260fc7b5f98e9d3",
            "f9fc95c901a54f1286ed4f079adf2f5d",
            "152a361185b64dc4a1a6970e00e294a7",
            "451de4bf64c84e78a6c2b4d8d0ea43ad",
            "99b42a833b4948b7bc80586cb00de95d",
            "2259472c5cb645f3b51acecd2df90253",
            "1a52729cc8c1468ab109a1dcf1a41cf3",
            "efde7bcdda7846e9b00086aabf89e784",
            "fa3f68a9e8694e2fb02c9afcd561e248",
            "77df9c82113b402aa1b663802342361e",
            "5875819406ea459887b25ece1a8b16a3",
            "fa337ea2e2e441b899f053d64e8f3a45",
            "9a7b799914c845118d9bc1a1f164d538",
            "734713a8909d40dcb4249d3fd4fd318d",
            "66e78d612dc14b4cbf2462990d9b2d8f",
            "76e6b31389f54a1f9073440c43539113",
            "b0e86e12455f4af88fd2b5f1c32ec3bf",
            "2c3911d6bf9c4f8c948857a95a157a78",
            "c38757e7a9a14566a772935536a91a04",
            "6087cbc796ff403aa5f6a89014adcfec",
            "ffd634a4879e4b9fbc26377f5fb14ec1",
            "ebce7c9a8b1c46f99e91cbbc80132406",
            "ce69a6f12056427eb364ff71cf6b8da1",
            "92ccc2c8d30d493e81663582d8aca084",
            "60caa028d3734a0cb8579c2ea1968f40",
            "ce7542461159407ea9b94ce0903d211c",
            "9548e4ed050d4ebf894438ed7bc939ec",
            "fd06f8c7bb1a427cae7965bf150ad25d",
            "0e56bd7879c1425c9a703dcf4aff1b53",
            "562ebdbf9cb146a3aa6b41e3ef1bdbfe",
            "cc080ec03a3d491cb8a069144e074284",
            "58b69ac1fd834882bfb119267a82f262",
            "ce9e4389548e4f84a9069d4a7f1c6191",
            "7c73f5bdca5246608ce144413ae2dac5",
            "cb0c9610937c43b7b7d794fce22c8286",
            "ba3722fef50a4071a45a7fc5318b3f08",
            "cc243582296d4305994924837ca13cca",
            "2ea59f88493c46ae897ea710fdffc4f9",
            "cd227b555b9540cfb681402cd2ec82d6",
            "011ccdd24ace42149c1ef1ccd447bd6d",
            "8ed5c059d4b244968268b6ac385304bc",
            "1d306a230d624979aff956c2b11842eb",
            "3c624d921db74c61bb0b183c4790990c",
            "cff8b95e0ab94e9e80783706f96d77a1",
            "03a38ba0f9b84e70b0edeb6964a64664",
            "2bbedc4c21494348a215524baa88edfe",
            "6d70a1cc46ee4d9aa1787cdee5cfea27",
            "855ff1240947475fbbe75670444995d8",
            "91c326021950463b807129aaeda2352c",
            "c252ce289bb146278a79d4ba641bc1e9",
            "b7bf214ccf904d73bba348b67bb06c25",
            "a5a20fac21ea4a30ab8f52cbe18d2b69",
            "56e1975b6baf48338a515a1a535a8a39",
            "c962520aba3a44128a9dad44f4972e4d",
            "ad5d448f3fbb40cd9897345d6a7c98b8",
            "ba0e8e641ce644f39d92f88bf4bade23",
            "feca747c603b4c62a26e3efbecf24375",
            "e467095f0cbc49f4a4aed286e4a3255e",
            "53aab11cd68947c4a70a10a354904b77"
          ]
        },
        "id": "L-H8i9j3bKxN",
        "outputId": "e2561deb-9238-4b5f-f92a-8fdd05b0da3c"
      },
      "execution_count": 3,
      "outputs": [
        {
          "output_type": "display_data",
          "data": {
            "text/plain": [
              "tokenizer_config.json:   0%|          | 0.00/51.0k [00:00<?, ?B/s]"
            ],
            "application/vnd.jupyter.widget-view+json": {
              "version_major": 2,
              "version_minor": 0,
              "model_id": "00e399f6939f48fd954187f3a4dcb12c"
            }
          },
          "metadata": {}
        },
        {
          "output_type": "display_data",
          "data": {
            "text/plain": [
              "tokenizer.json:   0%|          | 0.00/9.09M [00:00<?, ?B/s]"
            ],
            "application/vnd.jupyter.widget-view+json": {
              "version_major": 2,
              "version_minor": 0,
              "model_id": "117354eec63b42b99797c41a35f82e51"
            }
          },
          "metadata": {}
        },
        {
          "output_type": "display_data",
          "data": {
            "text/plain": [
              "special_tokens_map.json:   0%|          | 0.00/73.0 [00:00<?, ?B/s]"
            ],
            "application/vnd.jupyter.widget-view+json": {
              "version_major": 2,
              "version_minor": 0,
              "model_id": "39bf62e6b2aa4e2ea1fdb162cd4da4d0"
            }
          },
          "metadata": {}
        },
        {
          "output_type": "display_data",
          "data": {
            "text/plain": [
              "config.json:   0%|          | 0.00/654 [00:00<?, ?B/s]"
            ],
            "application/vnd.jupyter.widget-view+json": {
              "version_major": 2,
              "version_minor": 0,
              "model_id": "9cdb938b5dc54bdc8529f096551bb000"
            }
          },
          "metadata": {}
        },
        {
          "output_type": "display_data",
          "data": {
            "text/plain": [
              "model.safetensors.index.json:   0%|          | 0.00/23.9k [00:00<?, ?B/s]"
            ],
            "application/vnd.jupyter.widget-view+json": {
              "version_major": 2,
              "version_minor": 0,
              "model_id": "210953ec79bc44c88d27ad109e73861a"
            }
          },
          "metadata": {}
        },
        {
          "output_type": "display_data",
          "data": {
            "text/plain": [
              "Fetching 4 files:   0%|          | 0/4 [00:00<?, ?it/s]"
            ],
            "application/vnd.jupyter.widget-view+json": {
              "version_major": 2,
              "version_minor": 0,
              "model_id": "7e5e0f926af14ded93f1e281e97b96e5"
            }
          },
          "metadata": {}
        },
        {
          "output_type": "display_data",
          "data": {
            "text/plain": [
              "model-00004-of-00004.safetensors:   0%|          | 0.00/1.17G [00:00<?, ?B/s]"
            ],
            "application/vnd.jupyter.widget-view+json": {
              "version_major": 2,
              "version_minor": 0,
              "model_id": "55e9aebea3b64571bb25c3e45ab790ea"
            }
          },
          "metadata": {}
        },
        {
          "output_type": "display_data",
          "data": {
            "text/plain": [
              "model-00003-of-00004.safetensors:   0%|          | 0.00/4.92G [00:00<?, ?B/s]"
            ],
            "application/vnd.jupyter.widget-view+json": {
              "version_major": 2,
              "version_minor": 0,
              "model_id": "99b42a833b4948b7bc80586cb00de95d"
            }
          },
          "metadata": {}
        },
        {
          "output_type": "display_data",
          "data": {
            "text/plain": [
              "model-00001-of-00004.safetensors:   0%|          | 0.00/4.98G [00:00<?, ?B/s]"
            ],
            "application/vnd.jupyter.widget-view+json": {
              "version_major": 2,
              "version_minor": 0,
              "model_id": "76e6b31389f54a1f9073440c43539113"
            }
          },
          "metadata": {}
        },
        {
          "output_type": "display_data",
          "data": {
            "text/plain": [
              "model-00002-of-00004.safetensors:   0%|          | 0.00/5.00G [00:00<?, ?B/s]"
            ],
            "application/vnd.jupyter.widget-view+json": {
              "version_major": 2,
              "version_minor": 0,
              "model_id": "9548e4ed050d4ebf894438ed7bc939ec"
            }
          },
          "metadata": {}
        },
        {
          "output_type": "display_data",
          "data": {
            "text/plain": [
              "Loading checkpoint shards:   0%|          | 0/4 [00:00<?, ?it/s]"
            ],
            "application/vnd.jupyter.widget-view+json": {
              "version_major": 2,
              "version_minor": 0,
              "model_id": "2ea59f88493c46ae897ea710fdffc4f9"
            }
          },
          "metadata": {}
        },
        {
          "output_type": "display_data",
          "data": {
            "text/plain": [
              "generation_config.json:   0%|          | 0.00/187 [00:00<?, ?B/s]"
            ],
            "application/vnd.jupyter.widget-view+json": {
              "version_major": 2,
              "version_minor": 0,
              "model_id": "91c326021950463b807129aaeda2352c"
            }
          },
          "metadata": {}
        },
        {
          "output_type": "stream",
          "name": "stderr",
          "text": [
            "WARNING:accelerate.big_modeling:Some parameters are on the meta device because they were offloaded to the cpu and disk.\n"
          ]
        }
      ]
    },
    {
      "cell_type": "code",
      "source": [
        "embedder = SentenceTransformer('all-MiniLM-L6-v2')"
      ],
      "metadata": {
        "id": "BWfbnzFTbK0z",
        "colab": {
          "base_uri": "https://localhost:8080/",
          "height": 369,
          "referenced_widgets": [
            "996ebbf3bcd34317a88f52e3053cac1f",
            "d9187b8f21d54c039d4b0ce247d5c653",
            "c8a7e8f6dc0e49609a0a9f9b2aff2902",
            "b2976792c0be43fb943f741df854317f",
            "b147df4e02544267a569fc9a007fa50d",
            "e6acdcfb48f8418daf9b1a66b122dd68",
            "20bc6ea9d5834c5b980f3c8304241627",
            "de6638228a9340678b77f6a84a66c4b7",
            "32a1444b87f549babe5e2534c364bfb2",
            "462c65d0496b46199b7f18b4930b0ca2",
            "f611a57eeb6345ce8b2c8f71b449b8f4",
            "8b7ce32676bb4cb2addf8488f8335038",
            "bdfca053a23f420faa2833f502b30d30",
            "ac5886e4352d4f4a909b1d64524ec94d",
            "2f0eb5d7a91b45e1a2d600cc0c20c779",
            "d6f049ff163f429ba8bb0175c307dd4a",
            "f9beafe05b374146af63c6a3bef20255",
            "b4995c895a3f499f8ae6fccf299f489d",
            "ec1fdc1c53074eaaa01d390a6660b073",
            "215bb44e757341f88ec851d2c44fb38d",
            "1911d5a9a10e4b9694a086b4596528ae",
            "de0142b0b84c4cf292b2724589f4d91e",
            "f1ed4bdc3a8d4f19b4049aec5e1667bf",
            "a9a9c3ebc26e415f998c8bdb6baa1939",
            "29286895ffd148fda7f65836f505306e",
            "20ebbfe6bbdf41c299a912bbc5f455ad",
            "553ae7236d084d23a9bf49c34ae0bf9b",
            "c5861e8f67e5432c97ea8375dc385d71",
            "8d1126dbb54740b5814f4d3d5714c1fe",
            "f713d7a85aaa4721bc2bf49a5cece754",
            "5edec8427edb43e58ade47777830649f",
            "ffb737a972ea439fb370ed1d4ddea5f9",
            "2f117f00179a4f3cb74bebfae3aa6431",
            "ee32b9dfaba448ad928fe3caa3ebb568",
            "b0618762bbe5414799b95ad24c159135",
            "6e474abbb911404295b7ee0d7f3101f7",
            "d41c8fccc4494aeb9aacf6aff7107842",
            "2227438b582f41aca48e45d8c1ef6a99",
            "a2a768e0de774904ba139b5926fbb03d",
            "1c105cd8630d4eafa7e2f57a1186e16e",
            "70101531d92b450692d04562d8fee3aa",
            "44a1ceb2cd564089b28a714442ac361e",
            "31cb26e3482a445e80937bb5607e7edc",
            "787013035f4a4411ad95f3c005932b38",
            "92b308bbc3de411fa4d29acb98d009ef",
            "2d1cdaf72bbb4353be3c1b92ab6d8e18",
            "8b3d9e469b924bc3a9a31d4d4b0faeb1",
            "1ddfc48c6bd84a459fdc789b3f976d2a",
            "f2d46ec4face4648bd5d6ba483be5971",
            "9550e4cd80cc4c91949cec0239679da4",
            "8e83ad2f4b1f431db4d9012b869a8637",
            "764ca3936ebc431fa6d4ec62680f30b4",
            "df5061f22fdb4082bf04d44c607c1cea",
            "a2eb87f3390b48dabf5dd57c60afec90",
            "ff11da6f33c74bf9a7e8c1defca7d7f6",
            "16b85809977f45509e83b6cce389b338",
            "585ee5b2059c4c91ab1fb5f59f41c394",
            "dee5c7f31eeb46d2b1a290fe49943d8a",
            "846618563927476cb7463150d44cc84a",
            "c10a590b57d7480f8861deca563a83ce",
            "9afe46194a0d4c198e32231fd379a0b1",
            "8155826c79de427497062b48a8ef2c80",
            "3b9e96586a204d6ca737175c025af625",
            "4d966804163c4d9d95e41232a679eac5",
            "3d204761dceb4600913cb5311f65fa6b",
            "5ed91508c926455d8658858f778c8107",
            "5ba5b5951ca943f39185d30bd14724e8",
            "003e54eb523048089afe6e584250a6c3",
            "613e7f5443144ca8af3310483b82d55c",
            "802ba470e4264790bca680caca51a8fa",
            "33a13640f72e45458c98a0b9d9fbb5d9",
            "a449da651aa34a1497322d94e3eecd3e",
            "36cdde4b22fc45e7bdeb4c6b31d97f18",
            "da80a9f220bd4a58b4e787af81b39d18",
            "6be4001498074ea1b84d7a66eeac0c2d",
            "3e45928bc9e543fb96c1b731ec672304",
            "5679731c05724887a7c14127ea161397",
            "7cfb2972390544a5a47c09abdddacbae",
            "1a4008e3b04e41478e2288885b5ef5de",
            "3101e1b3b47441e6b8dba44f884ae6ba",
            "a1cc77c4ed9a40fb99147fc4c29b0a5e",
            "b90d24b108634a36b3f90f41867e6607",
            "732176f82a634fd9b3839fe0e0587332",
            "ae28d3414cf044cab5741a0d21bfac67",
            "fd6a704dbb64402a81070aa90aa0ad4c",
            "550df88dd49b450881b580b5bad66fcf",
            "dcf7164ac8e9496c8f9c8aa0f1a37ecb",
            "e246b8d19fa648f9b1c3822774061573",
            "9a01643bccb34eb18d30577ba6a0f788",
            "46cb03da80b242e294bd88770ce4d5c7",
            "e52134103b88475abce5adf3531762a5",
            "a6454939e711407fb56708302a45c988",
            "381330dd350a400cb79dc73e31e2d667",
            "afdda301b3cc43d3adac8a363b7f96f0",
            "b9e88c785ae043e0a53bed01e73ea59d",
            "8563c70335f44323a7f6351befad371a",
            "d4b96eb5e189484e89c82503632b30f1",
            "6a0a0ea1a4cf41b2bb0e935e05c39d40",
            "5d41dba0facc45d8af0273e2c7c825eb",
            "f3474e865730421394509c1a8d1ba514",
            "710c200a71a04f3fb4f610452f9fd730",
            "302ca001531447968ba02b789b64fa88",
            "92eed81682784c69a26d293d992b4eca",
            "bf3129232b574c12826a1d10d4f3bfcd",
            "4a82afc869484850af0fa19e7befecd4",
            "35f45400de5249659c64cadedd6f1ad6",
            "6c8d2f5e72184dfca715393e533e5c37",
            "499a9ae5894f4451bf85df60adee2696",
            "2601c531c7a84023adeff8b8758b11f2",
            "ed1e6d40d07946dbb2cffc156f0e8ec1",
            "09f1e9c4139d40a1959534fa6a2d47bd",
            "b46978d290a248569f58e4e8b2bfd13f",
            "763abf78301d45f68b7b35cd8ed1c4c8",
            "d5e56594e0884bfa94fccea63deaacec",
            "015dcd378a7843ca8696208f8e6288da",
            "1e46795d59c744ad9615155216e5d864",
            "4e7f5540a81e4751b66536210113cdd3",
            "64180c6d733e44bebd8955a2464c58c2",
            "3f2372f3c36249649245d36bb99de257",
            "7e097c0e192e4994b46c0b10be6cfc86",
            "ca68543908414b6d854252e8ce437142"
          ]
        },
        "outputId": "b445fe9b-c073-4d0e-c258-cb1287258d75"
      },
      "execution_count": 4,
      "outputs": [
        {
          "output_type": "display_data",
          "data": {
            "text/plain": [
              "modules.json:   0%|          | 0.00/349 [00:00<?, ?B/s]"
            ],
            "application/vnd.jupyter.widget-view+json": {
              "version_major": 2,
              "version_minor": 0,
              "model_id": "996ebbf3bcd34317a88f52e3053cac1f"
            }
          },
          "metadata": {}
        },
        {
          "output_type": "display_data",
          "data": {
            "text/plain": [
              "config_sentence_transformers.json:   0%|          | 0.00/116 [00:00<?, ?B/s]"
            ],
            "application/vnd.jupyter.widget-view+json": {
              "version_major": 2,
              "version_minor": 0,
              "model_id": "8b7ce32676bb4cb2addf8488f8335038"
            }
          },
          "metadata": {}
        },
        {
          "output_type": "display_data",
          "data": {
            "text/plain": [
              "README.md: 0.00B [00:00, ?B/s]"
            ],
            "application/vnd.jupyter.widget-view+json": {
              "version_major": 2,
              "version_minor": 0,
              "model_id": "f1ed4bdc3a8d4f19b4049aec5e1667bf"
            }
          },
          "metadata": {}
        },
        {
          "output_type": "display_data",
          "data": {
            "text/plain": [
              "sentence_bert_config.json:   0%|          | 0.00/53.0 [00:00<?, ?B/s]"
            ],
            "application/vnd.jupyter.widget-view+json": {
              "version_major": 2,
              "version_minor": 0,
              "model_id": "ee32b9dfaba448ad928fe3caa3ebb568"
            }
          },
          "metadata": {}
        },
        {
          "output_type": "display_data",
          "data": {
            "text/plain": [
              "config.json:   0%|          | 0.00/612 [00:00<?, ?B/s]"
            ],
            "application/vnd.jupyter.widget-view+json": {
              "version_major": 2,
              "version_minor": 0,
              "model_id": "92b308bbc3de411fa4d29acb98d009ef"
            }
          },
          "metadata": {}
        },
        {
          "output_type": "display_data",
          "data": {
            "text/plain": [
              "model.safetensors:   0%|          | 0.00/90.9M [00:00<?, ?B/s]"
            ],
            "application/vnd.jupyter.widget-view+json": {
              "version_major": 2,
              "version_minor": 0,
              "model_id": "16b85809977f45509e83b6cce389b338"
            }
          },
          "metadata": {}
        },
        {
          "output_type": "display_data",
          "data": {
            "text/plain": [
              "tokenizer_config.json:   0%|          | 0.00/350 [00:00<?, ?B/s]"
            ],
            "application/vnd.jupyter.widget-view+json": {
              "version_major": 2,
              "version_minor": 0,
              "model_id": "5ba5b5951ca943f39185d30bd14724e8"
            }
          },
          "metadata": {}
        },
        {
          "output_type": "display_data",
          "data": {
            "text/plain": [
              "vocab.txt: 0.00B [00:00, ?B/s]"
            ],
            "application/vnd.jupyter.widget-view+json": {
              "version_major": 2,
              "version_minor": 0,
              "model_id": "7cfb2972390544a5a47c09abdddacbae"
            }
          },
          "metadata": {}
        },
        {
          "output_type": "display_data",
          "data": {
            "text/plain": [
              "tokenizer.json: 0.00B [00:00, ?B/s]"
            ],
            "application/vnd.jupyter.widget-view+json": {
              "version_major": 2,
              "version_minor": 0,
              "model_id": "9a01643bccb34eb18d30577ba6a0f788"
            }
          },
          "metadata": {}
        },
        {
          "output_type": "display_data",
          "data": {
            "text/plain": [
              "special_tokens_map.json:   0%|          | 0.00/112 [00:00<?, ?B/s]"
            ],
            "application/vnd.jupyter.widget-view+json": {
              "version_major": 2,
              "version_minor": 0,
              "model_id": "f3474e865730421394509c1a8d1ba514"
            }
          },
          "metadata": {}
        },
        {
          "output_type": "display_data",
          "data": {
            "text/plain": [
              "config.json:   0%|          | 0.00/190 [00:00<?, ?B/s]"
            ],
            "application/vnd.jupyter.widget-view+json": {
              "version_major": 2,
              "version_minor": 0,
              "model_id": "09f1e9c4139d40a1959534fa6a2d47bd"
            }
          },
          "metadata": {}
        }
      ]
    },
    {
      "cell_type": "code",
      "source": [
        "df = pd.read_csv(\"/content/drive/MyDrive/Colab Notebooks/lfud_logic_train.csv\")\n",
        "inputs = df[\"input\"].tolist()\n",
        "labels = df[\"label\"].tolist()\n",
        "\n",
        "label2id = {\n",
        "    'faulty generalization': 0, 'false causality': 1, 'circular reasoning': 2,\n",
        "    'ad populum': 3, 'false dilemma': 4, 'fallacy of relevance': 5,\n",
        "    'ad hominem': 6, 'appeal to emotion': 7, 'fallacy of extension': 8,\n",
        "    'fallacy of credibility': 9, 'intentional fallacy': 10, 'deductive fallacy': 11\n",
        "}\n",
        "id2label = {v: k for k, v in label2id.items()}"
      ],
      "metadata": {
        "id": "ERHszC6UbK8-"
      },
      "execution_count": 5,
      "outputs": []
    },
    {
      "cell_type": "code",
      "source": [
        "def generate_batch_responses(prompts, temperature=0.7, max_new_tokens=200):\n",
        "    # tokenize all prompts\n",
        "    encoded = tokenizer(prompts, return_tensors=\"pt\", padding=True, truncation=True, max_length=2048)\n",
        "    encoded = {k: v.to(model.device) for k, v in encoded.items()}\n",
        "\n",
        "    with torch.no_grad():\n",
        "        outputs = model.generate(\n",
        "            **encoded,\n",
        "            max_new_tokens=max_new_tokens,\n",
        "            temperature=temperature,\n",
        "            do_sample=True,\n",
        "            top_p=0.9,\n",
        "            num_return_sequences=1,\n",
        "            pad_token_id=tokenizer.eos_token_id\n",
        "        )\n",
        "\n",
        "    # decode responses\n",
        "    responses = []\n",
        "    for i, output in enumerate(outputs):\n",
        "        # remove the input tokens from output\n",
        "        input_length = encoded['input_ids'][i].shape[0]\n",
        "        response = tokenizer.decode(output[input_length:], skip_special_tokens=True)\n",
        "        responses.append(response)\n",
        "\n",
        "    return responses\n"
      ],
      "metadata": {
        "id": "2SaRJrvFbK-H"
      },
      "execution_count": 6,
      "outputs": []
    },
    {
      "cell_type": "code",
      "source": [
        "def detect_fallacy_prompt(argument):\n",
        "    return f\"\"\"Analyze this argument and identify the logical fallacy: \"{argument}\"\n",
        "    Choose from: {', '.join(label2id.keys())}\n",
        "    Provide brief reasoning then state the fallacy type.\"\"\""
      ],
      "metadata": {
        "id": "Yg-nt3vAbn9z"
      },
      "execution_count": 7,
      "outputs": []
    },
    {
      "cell_type": "code",
      "source": [
        "def extract_fallacy(response):\n",
        "    response = response.lower()\n",
        "    for fallacy in label2id:\n",
        "        if fallacy.lower() in response:\n",
        "            return fallacy\n",
        "    return \"none\""
      ],
      "metadata": {
        "id": "NvXSEiWWboAr"
      },
      "execution_count": 8,
      "outputs": []
    },
    {
      "cell_type": "code",
      "source": [
        "def calculate_uncertainty(responses):\n",
        "    labels = [extract_fallacy(r) for r in responses]\n",
        "    unique_labels = len(set(labels))\n",
        "    return unique_labels / len(responses)"
      ],
      "metadata": {
        "id": "vjIO51vVboD6"
      },
      "execution_count": 9,
      "outputs": []
    }
  ]
}